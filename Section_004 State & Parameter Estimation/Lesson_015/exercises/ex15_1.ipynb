{
 "cells": [
  {
   "cell_type": "markdown",
   "metadata": {},
   "source": [
    "Linear Least Squares, Exercise 1"
   ]
  },
  {
   "cell_type": "code",
   "execution_count": 1,
   "metadata": {},
   "outputs": [],
   "source": [
    "import numpy as np\n",
    "from ex15_1_lib import run_linear_least_squares_estimation, run_linear_model, plotgraph, RLLS\n",
    "\n",
    "import matplotlib.pyplot as plt\n",
    "plt.style.use('seaborn-whitegrid')"
   ]
  },
  {
   "cell_type": "code",
   "execution_count": 2,
   "metadata": {},
   "outputs": [
    {
     "name": "stdout",
     "output_type": "stream",
     "text": [
      "[2000 2004 2008 2012 2016 2020 2024 2028 2032]\n",
      "1)\t [2000 2004 2008 2012 2016 2020 2024 2028 2032]\n",
      "1)\t [2000 2004 2008 2012 2016 2020 2024 2028 2032]\n"
     ]
    },
    {
     "ename": "AttributeError",
     "evalue": "'tuple' object has no attribute 'ndim'",
     "output_type": "error",
     "traceback": [
      "\u001b[1;31m---------------------------------------------------------------------------\u001b[0m",
      "\u001b[1;31mAttributeError\u001b[0m                            Traceback (most recent call last)",
      "\u001b[1;32m<ipython-input-2-eb69d7dc336f>\u001b[0m in \u001b[0;36m<module>\u001b[1;34m\u001b[0m\n\u001b[0;32m      8\u001b[0m \u001b[0mmodel_X\u001b[0m \u001b[1;33m=\u001b[0m \u001b[0mnp\u001b[0m\u001b[1;33m.\u001b[0m\u001b[0mappend\u001b[0m\u001b[1;33m(\u001b[0m\u001b[0mdata_X\u001b[0m\u001b[1;33m,\u001b[0m\u001b[0mnp\u001b[0m\u001b[1;33m.\u001b[0m\u001b[0marray\u001b[0m\u001b[1;33m(\u001b[0m\u001b[1;33m[\u001b[0m\u001b[1;36m2024\u001b[0m\u001b[1;33m,\u001b[0m\u001b[1;36m2028\u001b[0m\u001b[1;33m,\u001b[0m\u001b[1;36m2032\u001b[0m\u001b[1;33m]\u001b[0m\u001b[1;33m)\u001b[0m\u001b[1;33m,\u001b[0m\u001b[0maxis\u001b[0m\u001b[1;33m=\u001b[0m\u001b[1;36m0\u001b[0m\u001b[1;33m)\u001b[0m\u001b[1;33m\u001b[0m\u001b[1;33m\u001b[0m\u001b[0m\n\u001b[0;32m      9\u001b[0m \u001b[0mprint\u001b[0m\u001b[1;33m(\u001b[0m\u001b[0mmodel_X\u001b[0m\u001b[1;33m)\u001b[0m\u001b[1;33m\u001b[0m\u001b[1;33m\u001b[0m\u001b[0m\n\u001b[1;32m---> 10\u001b[1;33m \u001b[0mmodel_Y\u001b[0m \u001b[1;33m=\u001b[0m \u001b[0mrun_linear_model\u001b[0m\u001b[1;33m(\u001b[0m\u001b[0mmodel_X\u001b[0m\u001b[1;33m,\u001b[0m \u001b[0mf_model1\u001b[0m\u001b[1;33m,\u001b[0m \u001b[0mparams\u001b[0m\u001b[1;33m)\u001b[0m\u001b[1;33m\u001b[0m\u001b[1;33m\u001b[0m\u001b[0m\n\u001b[0m\u001b[0;32m     11\u001b[0m \u001b[0mplotgraph\u001b[0m\u001b[1;33m(\u001b[0m\u001b[0mdata_X\u001b[0m\u001b[1;33m,\u001b[0m \u001b[0mdata_Y\u001b[0m\u001b[1;33m,\u001b[0m \u001b[0mmodel_X\u001b[0m\u001b[1;33m,\u001b[0m \u001b[0mmodel_Y\u001b[0m\u001b[1;33m,\u001b[0m \u001b[0mtitle\u001b[0m\u001b[1;33m)\u001b[0m\u001b[1;33m\u001b[0m\u001b[1;33m\u001b[0m\u001b[0m\n\u001b[0;32m     12\u001b[0m \u001b[0mprint\u001b[0m\u001b[1;33m(\u001b[0m\u001b[1;34m\"Predicted Women 2024 100m sprint time: \"\u001b[0m\u001b[1;33m,\u001b[0m \u001b[0mmodel_Y\u001b[0m\u001b[1;33m[\u001b[0m\u001b[1;33m-\u001b[0m\u001b[1;36m3\u001b[0m\u001b[1;33m]\u001b[0m\u001b[1;33m)\u001b[0m\u001b[1;33m\u001b[0m\u001b[1;33m\u001b[0m\u001b[0m\n",
      "\u001b[1;32mc:\\_play\\kf-course\\QuadCourseMaterials\\Section_004 State & Parameter Estimation\\Lesson_015\\exercises\\ex15_1_lib.py\u001b[0m in \u001b[0;36mrun_linear_model\u001b[1;34m(X, f, params)\u001b[0m\n\u001b[0;32m     80\u001b[0m   \u001b[0mprint\u001b[0m\u001b[1;33m(\u001b[0m\u001b[1;34m\"1)\\t\"\u001b[0m\u001b[1;33m,\u001b[0m\u001b[0mX\u001b[0m\u001b[1;33m)\u001b[0m\u001b[1;33m\u001b[0m\u001b[1;33m\u001b[0m\u001b[0m\n\u001b[0;32m     81\u001b[0m \u001b[1;33m\u001b[0m\u001b[0m\n\u001b[1;32m---> 82\u001b[1;33m   if ( (X.ndim > 2) or (params.ndim !=1) or \n\u001b[0m\u001b[0;32m     83\u001b[0m         (not callable(f)) or (len(inspect.getfullargspec(f).args) != 1) ):\n\u001b[0;32m     84\u001b[0m     \u001b[0mprint\u001b[0m\u001b[1;33m(\u001b[0m\u001b[0minspect\u001b[0m\u001b[1;33m.\u001b[0m\u001b[0mcurrentframe\u001b[0m\u001b[1;33m(\u001b[0m\u001b[1;33m)\u001b[0m\u001b[1;33m.\u001b[0m\u001b[0mf_code\u001b[0m\u001b[1;33m.\u001b[0m\u001b[0mco_name\u001b[0m\u001b[1;33m,\u001b[0m \u001b[1;34m\"(): \"\u001b[0m\u001b[1;33m,\u001b[0m \u001b[1;34m\"ERROR Input parameters sanity check failed.\"\u001b[0m\u001b[1;33m)\u001b[0m\u001b[1;33m\u001b[0m\u001b[1;33m\u001b[0m\u001b[0m\n",
      "\u001b[1;31mAttributeError\u001b[0m: 'tuple' object has no attribute 'ndim'"
     ]
    }
   ],
   "source": [
    "# Women program\n",
    "###########################################################\n",
    "title = \"Women 100m sprint\"\n",
    "data_X = np.array([2000,2004,2008,2012,2016,2020])\n",
    "data_Y = np.array([11.12,10.93,10.78,10.75,10.71,10.61])\n",
    "f_model1 = lambda x: np.array([((float(x)-1924)/4)**(-.95),1])\n",
    "params, params_cov = run_linear_least_squares_estimation(data_X, data_Y, f_model1)\n",
    "model_X = np.append(data_X,np.array([2024,2028,2032]),axis=0)\n",
    "model_Y = run_linear_model(model_X, f_model1, params)\n",
    "plotgraph(data_X, data_Y, model_X, model_Y, title)\n",
    "print(\"Predicted Women 2024 100m sprint time: \", model_Y[-3])\n",
    "\n",
    "# Men program\n",
    "#############################################################\n",
    "title = \"Men 100m sprint\"\n",
    "data_X = np.array([2000, 2004, 2008, 2012, 2016, 2020])\n",
    "data_Y = np.array([9.87, 9.85, 9.69, 9.63, 9.81, 9.80])\n",
    "params, params_cov = run_linear_least_squares_estimation(data_X, data_Y, f_model1)\n",
    "model_X = np.append(data_X,np.array([2024,2028,2032]),axis=0)\n",
    "model_Y = run_linear_model(model_X, f_model1, params)\n",
    "plotgraph(data_X, data_Y, model_X, model_Y, title)\n",
    "print(\"Predicted Men 2024 100m sprint time: \", model_Y[-3])"
   ]
  },
  {
   "cell_type": "code",
   "execution_count": null,
   "metadata": {},
   "outputs": [],
   "source": [
    "# Auto-generated data example\n",
    "title = \"Auto-generated data example\"\n",
    "\n",
    "# Model\n",
    "p = 2\n",
    "m = 3\n",
    "f_model2 = lambda x: np.array([ x[0]*x[1], 1 + x[2]*np.sin(x[0]) ])\n",
    "params = np.random.rand(p)-0.5\n",
    "sigma_output = 0.01\n",
    "\n",
    "# This is the generated data\n",
    "n = 100; \n",
    "data_X = np.random.rand(n,m)\n",
    "data_Y = run_linear_model(data_X, f_model2, params) + np.random.normal(0,sigma_output,n)\n",
    "\n",
    "# Estimation\n",
    "est_params, cov_params = run_linear_least_squares_estimation(data_X, data_Y, f_model2)\n",
    "model_Y = run_linear_model(data_X, f_model2, est_params)\n",
    "\n",
    "print(\"Real parameters\", params)\n",
    "print(\"Estimated parameters:\", est_params)\n",
    "data_k = np.arange(data_X.shape[0])\n",
    "plotgraph(data_k, data_Y, data_k, model_Y, \"Example with auto-generated parameters and data\")"
   ]
  },
  {
   "cell_type": "code",
   "execution_count": null,
   "metadata": {},
   "outputs": [],
   "source": [
    "# Recursive Linear Linear Filter on previous model \n",
    "# Run the ARX model and the RLLS together, step by step\n",
    "\n",
    "est_params = [ ]\n",
    "\n",
    "n = 100\n",
    "\n",
    "for i in range(n):\n",
    "  #x = data_X[i,:]\n",
    "  #y = data_Y[i]\n",
    "\n",
    "  x = np.random.rand(m)\n",
    "  fx = f_model2(x)  \n",
    "  y = fx@params + np.random.normal(0,sigma_output)\n",
    "\n",
    "  \n",
    "  if (i>0):\n",
    "    filter.update(fx, y)\n",
    "  else:\n",
    "    print('Init filter using the first measurement')\n",
    "    P0 = np.linalg.inv(0.01*np.eye(p) + np.outer(fx,fx)) \n",
    "    filter = RLLS(P0@fx*y, P0, 1.0)\n",
    "    \n",
    "    #print('Init the filter randomly'); # converges slower \n",
    "    #filter = RLLS(np.ones(p), np.eye(p), 1.0)\n",
    "\n",
    "  # Log\n",
    "  est_params.append(filter.params)\n",
    "\n",
    "# Plotting Results \n",
    "est_params = np.array(est_params)\n",
    "data_k = np.arange(0,est_params.shape[0])\n",
    "for i in range(p):\n",
    "  _, ax = plt.subplots(1)\n",
    "  plt.style.use('seaborn-whitegrid')\n",
    "  ax.plot(data_k,est_params[:,i], color='green', linestyle='solid', marker='o',\n",
    "     markerfacecolor='green', markersize=8, label='Est Param '+ str(i))\n",
    "  ax.plot([data_k[0], data_k[-1]], [params[i], params[i]], color='blue', linestyle='solid', marker=None, label='Real Param '+ str(i))\n",
    "  plt.ylabel('Time step')\n",
    "  plt.grid(True)\n",
    "  plt.legend()\n",
    "\n",
    "# Final Results\n",
    "print(\"Real parameters\", params)\n",
    "print(\"Estimated parameters:\", est_params[-1,:])"
   ]
  }
 ],
 "metadata": {
  "interpreter": {
   "hash": "63fd5069d213b44bf678585dea6b12cceca9941eaf7f819626cde1f2670de90d"
  },
  "kernelspec": {
   "display_name": "Python 3.9.2 64-bit",
   "name": "python3"
  },
  "language_info": {
   "codemirror_mode": {
    "name": "ipython",
    "version": 3
   },
   "file_extension": ".py",
   "mimetype": "text/x-python",
   "name": "python",
   "nbconvert_exporter": "python",
   "pygments_lexer": "ipython3",
   "version": "3.9.2"
  },
  "orig_nbformat": 4
 },
 "nbformat": 4,
 "nbformat_minor": 2
}
