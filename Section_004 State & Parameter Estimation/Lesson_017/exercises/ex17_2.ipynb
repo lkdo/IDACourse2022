{
 "cells": [
  {
   "cell_type": "code",
   "execution_count": null,
   "metadata": {},
   "outputs": [],
   "source": [
    "import math\n",
    "import numpy as np\n",
    "import matplotlib.pyplot as plt\n",
    "from ex17_1_lib import DNLDS, EKF, SUT, SPKF"
   ]
  },
  {
   "cell_type": "code",
   "execution_count": null,
   "metadata": {},
   "outputs": [],
   "source": [
    "# Autonomous pendulum\n",
    "# x = [theta, omega, L, alfa]\n",
    "n = 4 \n",
    "f = lambda x, t, u: np.array([ x[1], -9.81/x[2]*np.sin(x[0])-x[3]*x[1], 0, 0 ])\n",
    "h = lambda x: np.array([x[0]])\n",
    "dfdx = lambda x, u: np.array([ [0, 1, 0, 0],\n",
    "                               [-9.81/x[2]*np.cos(x[0]), -x[3], +9.81*np.sin(x[0])/(x[2]**2), -x[1] ],\n",
    "                               [0 , 0 , 0, 0],\n",
    "                               [0, 0, 0, 0]]) # Jacobian of f2\n",
    "dhdx = lambda x: np.array([[1, 0, 0, 0]]) # Jacobian of h2\n",
    "G = np.eye(n)\n",
    "Q = np.diag([0, 0, 0, 0])\n",
    "R = np.diag([0.04*0.04])\n",
    "x0 = np.array([10.0/180*math.pi,0,1.3,0.2])\n",
    "x0_est = np.array([12.0/180*math.pi,0,1,0.1])\n",
    "P0 = np.diag([1,0.1*0.1,3*3,0.15**2])"
   ]
  },
  {
   "cell_type": "code",
   "execution_count": null,
   "metadata": {},
   "outputs": [],
   "source": [
    "# Init Dynamical System\n",
    "nls = DNLDS(f, h, G, Q, R, x0)\n",
    "\n",
    "# Init Kalman Filter\n",
    "Q = Q + np.diag([10**-4, 10**-4, 10**-9, 10**-9])\n",
    "\n",
    "# EKF (sometimes it diverges really bad on this model, like 1 out 5 is bad; model is also highly non-linear)\n",
    "# filter = EKF(f, h, dfdx, dhdx, G, Q, R, x0_est, P0)  \n",
    "\n",
    "# OR Sigma Point Kalman Filter ( better on this pendulum sistem )\n",
    "alpha = 0.0001\n",
    "kappa = 0.0\n",
    "beta = 2.0\n",
    "sut = SUT(alpha, beta, kappa, n)\n",
    "filter = SPKF(f,h,G,Q,R,x0_est,P0,sut,variant=0)  # 0 - normal UKF, 1 - IUKF, 2 - UKFz"
   ]
  },
  {
   "cell_type": "code",
   "execution_count": null,
   "metadata": {},
   "outputs": [],
   "source": [
    "# Logging \n",
    "x_true = []; x_true.append(nls.x)\n",
    "x_est = []; x_est.append(filter.x)\n",
    "\n",
    "T = 10 # in seconds \n",
    "dt = 0.01 # seconds \n",
    "\n",
    "for i in range(int(T/dt)):\n",
    "    \n",
    "    nls.step(0,dt,1)\n",
    "    filter.predict(0,dt,1)\n",
    "     \n",
    "    meas = nls.output()\n",
    "    filter.update(meas,1) # 0 - simple covariance update, 1 - Joseph covariance update\n",
    "\n",
    "    # Logging \n",
    "    x_true.append(nls.x)\n",
    "    x_est.append(filter.x)\n",
    "\n",
    "x_true = np.array(x_true)\n",
    "x_est = np.array(x_est)"
   ]
  },
  {
   "cell_type": "code",
   "execution_count": null,
   "metadata": {},
   "outputs": [],
   "source": [
    "# Plot the logs\n",
    "for i in range(nls.x.shape[0]):\n",
    "    _, ax = plt.subplots(1)\n",
    "    plt.style.use('seaborn-whitegrid')\n",
    "    ax.plot(x_true[:,i],color='blue', linestyle='solid', marker='o',\n",
    "        markerfacecolor='blue', markersize=4, label='True State')\n",
    "    ax.plot(x_est[:,i],color='orange', linestyle='solid', marker='o',\n",
    "        markerfacecolor='orange', markersize=4, label='Est State')\n",
    "    ax.set_title('State '+str(i))\n",
    "    plt.legend()"
   ]
  }
 ],
 "metadata": {
  "interpreter": {
   "hash": "63fd5069d213b44bf678585dea6b12cceca9941eaf7f819626cde1f2670de90d"
  },
  "kernelspec": {
   "display_name": "Python 3.9.2 64-bit",
   "language": "python",
   "name": "python3"
  },
  "language_info": {
   "codemirror_mode": {
    "name": "ipython",
    "version": 3
   },
   "file_extension": ".py",
   "mimetype": "text/x-python",
   "name": "python",
   "nbconvert_exporter": "python",
   "pygments_lexer": "ipython3",
   "version": "3.9.2"
  },
  "orig_nbformat": 4
 },
 "nbformat": 4,
 "nbformat_minor": 2
}
