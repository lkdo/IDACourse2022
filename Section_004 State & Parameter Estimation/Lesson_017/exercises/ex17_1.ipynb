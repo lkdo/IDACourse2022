{
 "cells": [
  {
   "cell_type": "code",
   "execution_count": null,
   "metadata": {},
   "outputs": [],
   "source": [
    "import numpy as np\n",
    "import matplotlib.pyplot as plt\n",
    "from ex17_1_lib import DNLDS, EKF, SUT, SPKF "
   ]
  },
  {
   "cell_type": "code",
   "execution_count": null,
   "metadata": {},
   "outputs": [],
   "source": [
    "# 1D Rocket Model\n",
    "# x = [s, v, m]\n",
    "n = 3\n",
    "f = lambda x, t, u : np.array([ x[1], (u[0] - 0.2*x[1]**2)*x[2], -0.01**2*u[0] ]) # continuous time model\n",
    "h = lambda x: np.array([x[0]])\n",
    "dfdx = lambda x, u: np.array([ [ 0 , 1, 0 ], \n",
    "                               [ 0, -0.2*2*x[1]*x[2], u[0] - 0.2*x[1]**2 ],\n",
    "                               [ 0, 0, 0 ] ]) # Jacobian of f1\n",
    "dhdx = lambda x: np.array([[1, 0, 0]]) # Jacobian of h1\n",
    "G = np.eye(n)\n",
    "Q = np.diag([0.1**2, 0.001**2, 0**2])\n",
    "R = np.diag([1**2])\n",
    "x0 = np.array([10.0,0.0,1.0])\n",
    "x0_est = np.array([10,0,0.56])\n",
    "P0 = np.diag([10**-8,10**-8,1**2])\n",
    "u_scale = 15"
   ]
  },
  {
   "cell_type": "code",
   "execution_count": null,
   "metadata": {},
   "outputs": [],
   "source": [
    "# Init Dynamical System\n",
    "nls = DNLDS(f, h, G, Q, R, x0)\n",
    "\n",
    "# Init Kalman Filter \n",
    "Q = Q + np.diag([0.05**2, 0.0005**2, 10**-6])\n",
    "\n",
    "# EKF\n",
    "filter = EKF(f, h, dfdx, dhdx, G, Q, R, x0, P0)\n",
    "\n",
    "# OR \n",
    "\n",
    "# Sigma Point Kalman Filter \n",
    "#alpha = 0.0001\n",
    "#kappa = 0.0\n",
    "#beta = 2.0\n",
    "#sut = SUT(alpha, beta, kappa, n)\n",
    "#filter =  SPKF(f,h,G,Q,R,x0_est,P0,sut,variant=1) # 0 - normal UKF, 1 - IUKF, 2 - UKFz"
   ]
  },
  {
   "cell_type": "code",
   "execution_count": null,
   "metadata": {},
   "outputs": [],
   "source": [
    "# Logging \n",
    "x_true = []; x_true.append(nls.x)\n",
    "x_est = []; x_est.append(filter.x)\n",
    "\n",
    "T = 15*60 # in seconds \n",
    "dt = 0.1 # seconds \n",
    "\n",
    "for i in range(int(T/dt)):\n",
    "    if (nls.x[0]<=0):\n",
    "        # stop if we are crashing, we did not model ground level\n",
    "        print(\"Crashed at time: \", i*dt, \" seconds.\")\n",
    "        break\n",
    "    u = np.random.rand(1)*u_scale\n",
    "    nls.step(u,dt,1)\n",
    "    filter.predict(u,dt,1)\n",
    "\n",
    "    meas = nls.output()\n",
    "    filter.update(meas,1) # 0 - simple covariance update, 1 - Joseph covariance update\n",
    "    \n",
    "    # Logging \n",
    "    x_true.append(nls.x)\n",
    "    x_est.append(filter.x)\n",
    "\n",
    "x_true = np.array(x_true)\n",
    "x_est = np.array(x_est)"
   ]
  },
  {
   "cell_type": "code",
   "execution_count": null,
   "metadata": {},
   "outputs": [],
   "source": [
    "# Plot the logs\n",
    "for i in range(nls.x.shape[0]):\n",
    "    _, ax = plt.subplots(1)\n",
    "    plt.style.use('seaborn-whitegrid')\n",
    "    ax.plot(x_true[:,i],color='blue', linestyle='solid', marker='o',\n",
    "        markerfacecolor='blue', markersize=4, label='True State')\n",
    "    ax.plot(x_est[:,i],color='orange', linestyle='solid', marker='o',\n",
    "        markerfacecolor='orange', markersize=4, label='Est State')\n",
    "    ax.set_title('State '+str(i))\n",
    "    plt.legend()\n",
    "\n",
    "print(\"Mass:\\n\", x_true[:,2])"
   ]
  }
 ],
 "metadata": {
  "interpreter": {
   "hash": "63fd5069d213b44bf678585dea6b12cceca9941eaf7f819626cde1f2670de90d"
  },
  "kernelspec": {
   "display_name": "Python 3.9.2 64-bit",
   "language": "python",
   "name": "python3"
  },
  "language_info": {
   "codemirror_mode": {
    "name": "ipython",
    "version": 3
   },
   "file_extension": ".py",
   "mimetype": "text/x-python",
   "name": "python",
   "nbconvert_exporter": "python",
   "pygments_lexer": "ipython3",
   "version": "3.9.2"
  },
  "orig_nbformat": 4
 },
 "nbformat": 4,
 "nbformat_minor": 2
}
