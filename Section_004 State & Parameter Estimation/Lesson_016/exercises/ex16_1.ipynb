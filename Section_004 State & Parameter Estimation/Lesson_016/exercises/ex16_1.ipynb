{
 "cells": [
  {
   "cell_type": "markdown",
   "metadata": {},
   "source": [
    "Linear Kalman Filter, Exercise 1"
   ]
  },
  {
   "cell_type": "code",
   "execution_count": null,
   "metadata": {},
   "outputs": [],
   "source": [
    "import numpy as np\n",
    "import matplotlib.pyplot as plt\n",
    "from ex16_1_lib import DLDS, KalmanFilter"
   ]
  },
  {
   "cell_type": "code",
   "execution_count": null,
   "metadata": {},
   "outputs": [],
   "source": [
    "# Init problem\n",
    "A = np.array([ [0.9,0.1,0.2],  [0.05,0.8,0.1], [0.05,0.1,0.7] ])\n",
    "B = np.zeros([3,2])\n",
    "G = np.array([ [1,0],  [0,1], [-1,-1] ])\n",
    "H = np.array([ [1,1,0],  [1,0,1], [0,1,1] ])\n",
    "Q = np.diag([1**2,1**2])\n",
    "R = np.diag([5**2,5**2,5**2])\n",
    "x0 = np.array([20, 50, 30])\n",
    "\n",
    "# Init Dynamical System\n",
    "S1 = DLDS(A, B, G, H, Q, R, x0)\n",
    "\n",
    "if (S1.is_observable()):\n",
    "    print(\"S1 is Observable\")\n",
    "else:\n",
    "    print(\"S1 is NOT Observable\")"
   ]
  },
  {
   "cell_type": "code",
   "execution_count": null,
   "metadata": {},
   "outputs": [],
   "source": [
    "# Init Kalman Filter\n",
    "x0 = np.array([100, 0, 0])\n",
    "P0 = np.diag([100**2,100**2,100**2])\n",
    "F1 = KalmanFilter(A, B, G, H, Q, R, x0, P0, np.array([[1,1,1]]), np.array([100])) \n",
    "\n",
    "# Logging \n",
    "x_true = []; x_true.append(S1.x)\n",
    "x_est = []; x_est.append(F1.x)\n",
    "\n",
    "for i in range(100):\n",
    "    #print(\"System State: \", S1.x, \" Meas: \", meas, \" Check: \", np.sum(S1.x))\n",
    "    #print(\"Estima State: \", F1.x, \" Check: \", np.sum(F1.x))\n",
    "    #print(\"-------------\\n\")\n",
    "    \n",
    "    S1.step(np.zeros(2))\n",
    "    F1.predict(np.zeros(2))\n",
    "\n",
    "    meas = S1.output()\n",
    "    F1.update(meas,1)\n",
    "    \n",
    "    F1.apply_eq_constraint()\n",
    "\n",
    "    # Logging \n",
    "    x_true.append(S1.x)\n",
    "    x_est.append(F1.x)\n",
    "\n",
    "x_true = np.array(x_true)\n",
    "x_est = np.array(x_est)"
   ]
  },
  {
   "cell_type": "code",
   "execution_count": null,
   "metadata": {},
   "outputs": [],
   "source": [
    "# Plot the logs\n",
    "for i in range(S1.x.shape[0]):\n",
    "    _, ax = plt.subplots(1)\n",
    "    plt.style.use('seaborn-whitegrid')\n",
    "    ax.plot(x_true[:,i],color='blue', linestyle='solid', marker='o',\n",
    "        markerfacecolor='blue', markersize=4, label='True State')\n",
    "    ax.plot(x_est[:,i],color='orange', linestyle='solid', marker='o',\n",
    "        markerfacecolor='orange', markersize=4, label='Est State')\n",
    "    ax.set_title('State '+str(i))\n",
    "    plt.legend()"
   ]
  }
 ],
 "metadata": {
  "interpreter": {
   "hash": "63fd5069d213b44bf678585dea6b12cceca9941eaf7f819626cde1f2670de90d"
  },
  "kernelspec": {
   "display_name": "Python 3.9.2 64-bit",
   "language": "python",
   "name": "python3"
  },
  "language_info": {
   "codemirror_mode": {
    "name": "ipython",
    "version": 3
   },
   "file_extension": ".py",
   "mimetype": "text/x-python",
   "name": "python",
   "nbconvert_exporter": "python",
   "pygments_lexer": "ipython3",
   "version": "3.9.2"
  },
  "orig_nbformat": 4
 },
 "nbformat": 4,
 "nbformat_minor": 2
}
